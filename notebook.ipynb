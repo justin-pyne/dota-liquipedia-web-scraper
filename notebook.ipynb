{
 "cells": [
  {
   "cell_type": "code",
   "execution_count": 53,
   "metadata": {},
   "outputs": [],
   "source": [
    "import requests\n",
    "from bs4 import BeautifulSoup\n",
    "import csv"
   ]
  },
  {
   "attachments": {},
   "cell_type": "markdown",
   "metadata": {},
   "source": [
    "Requests for each page are commented out for ease of running the full notebook, and to keep track of previous requests."
   ]
  },
  {
   "attachments": {},
   "cell_type": "markdown",
   "metadata": {},
   "source": [
    "Requesting China DPC Liquipedia Page."
   ]
  },
  {
   "cell_type": "code",
   "execution_count": 54,
   "metadata": {},
   "outputs": [],
   "source": [
    "# # Request the page\n",
    "# url = \"https://liquipedia.net/dota2/Dota_Pro_Circuit/2023/1/China/Statistics/Division_I\"\n",
    "# response = requests.get(url)\n",
    "\n",
    "# # Parse the HTML content using BeautifulSoup\n",
    "# soup = BeautifulSoup(response.content, 'html.parser')"
   ]
  },
  {
   "attachments": {},
   "cell_type": "markdown",
   "metadata": {},
   "source": [
    "Requesting NA DPC Liquipedia Page."
   ]
  },
  {
   "cell_type": "code",
   "execution_count": 55,
   "metadata": {},
   "outputs": [],
   "source": [
    "# # Request the page\n",
    "# url = \"https://liquipedia.net/dota2/Dota_Pro_Circuit/2023/1/North_America/Statistics/Division_I\"\n",
    "# response = requests.get(url)\n",
    "\n",
    "# # Parse the HTML content using BeautifulSoup\n",
    "# soup = BeautifulSoup(response.content, 'html.parser')"
   ]
  },
  {
   "attachments": {},
   "cell_type": "markdown",
   "metadata": {},
   "source": [
    "Requesting WEU DPC Liquipedia Page."
   ]
  },
  {
   "cell_type": "code",
   "execution_count": 56,
   "metadata": {},
   "outputs": [],
   "source": [
    "# # Request the page\n",
    "# url = \"https://liquipedia.net/dota2/Dota_Pro_Circuit/2023/1/Western_Europe/Statistics/Division_I\"\n",
    "# response = requests.get(url)\n",
    "\n",
    "# # Parse the HTML content using BeautifulSoup\n",
    "# soup = BeautifulSoup(response.content, 'html.parser')"
   ]
  },
  {
   "attachments": {},
   "cell_type": "markdown",
   "metadata": {},
   "source": [
    "Requesting SA DPC Liquipedia Page."
   ]
  },
  {
   "cell_type": "code",
   "execution_count": 57,
   "metadata": {},
   "outputs": [],
   "source": [
    "# # Request the page\n",
    "# url = \"https://liquipedia.net/dota2/Dota_Pro_Circuit/2023/1/South_America/Statistics/Division_I\"\n",
    "# response = requests.get(url)\n",
    "\n",
    "# # Parse the HTML content using BeautifulSoup\n",
    "# soup = BeautifulSoup(response.content, 'html.parser')"
   ]
  },
  {
   "attachments": {},
   "cell_type": "markdown",
   "metadata": {},
   "source": [
    "Requesting SEA DPC Liquipedia Page."
   ]
  },
  {
   "cell_type": "code",
   "execution_count": 58,
   "metadata": {},
   "outputs": [],
   "source": [
    "# # Request the page\n",
    "# url = \"https://liquipedia.net/dota2/Dota_Pro_Circuit/2023/1/Southeast_Asia/Statistics/Division_I\"\n",
    "# response = requests.get(url)\n",
    "\n",
    "# # Parse the HTML content using BeautifulSoup\n",
    "# soup = BeautifulSoup(response.content, 'html.parser')"
   ]
  },
  {
   "attachments": {},
   "cell_type": "markdown",
   "metadata": {},
   "source": [
    "Requesting EEU DPC Liquipedia Page."
   ]
  },
  {
   "cell_type": "code",
   "execution_count": 59,
   "metadata": {},
   "outputs": [],
   "source": [
    "# # Request the page\n",
    "# url = \"https://liquipedia.net/dota2/Dota_Pro_Circuit/2023/1/Eastern_Europe/Statistics/Division_I\"\n",
    "# response = requests.get(url)\n",
    "\n",
    "# # Parse the HTML content using BeautifulSoup\n",
    "# soup = BeautifulSoup(response.content, 'html.parser')"
   ]
  },
  {
   "attachments": {},
   "cell_type": "markdown",
   "metadata": {},
   "source": [
    "Requesting Lima Major Liquipedia Page."
   ]
  },
  {
   "cell_type": "code",
   "execution_count": 60,
   "metadata": {},
   "outputs": [],
   "source": [
    "# Request the page\n",
    "url = \"https://liquipedia.net/dota2/Lima_Major/2023/Statistics\"\n",
    "response = requests.get(url)\n",
    "\n",
    "# Parse the HTML content using BeautifulSoup\n",
    "soup = BeautifulSoup(response.content, 'html.parser')"
   ]
  },
  {
   "cell_type": "code",
   "execution_count": 61,
   "metadata": {},
   "outputs": [],
   "source": [
    "# # Find the table containing the data we want to scrape\n",
    "# table = soup.find('table', {'class': 'wikitable'})\n",
    "\n",
    "# # Extract the data from the table\n",
    "# rows = table.find_all('tr')\n",
    "\n",
    "# # Print out each row with its columns indexed\n",
    "# for row in rows:\n",
    "#     cols = row.find_all('td')\n",
    "#     print([cols[i].text.strip() for i in range(len(cols))])"
   ]
  },
  {
   "cell_type": "code",
   "execution_count": 62,
   "metadata": {},
   "outputs": [],
   "source": [
    "# # Find the table containing the data we want to scrape\n",
    "# table = soup.find('table', {'class': 'wikitable'})\n",
    "\n",
    "# # Extract the data from the table\n",
    "# rows = table.find_all('tr')\n",
    "\n",
    "# # Print out each row with its columns indexed, but only if the row has at least 6 columns\n",
    "# for row in rows:\n",
    "#     cols = row.find_all('td')\n",
    "#     if len(cols) > 6:\n",
    "#         print([cols[i].text.strip() for i in range(len(cols))])"
   ]
  },
  {
   "cell_type": "code",
   "execution_count": 63,
   "metadata": {},
   "outputs": [],
   "source": [
    "# Find the table containing the data we want to scrape\n",
    "table = soup.find('table', {'class': 'wikitable'})\n",
    "\n",
    "# Extract the data from the table\n",
    "rows = table.find_all('tr')\n",
    "\n",
    "# Initialize a list to store the scraped data\n",
    "data = []\n",
    "\n",
    "# Loop through each row of the table and extract the desired data\n",
    "for row in rows:\n",
    "    cols = row.find_all('td')\n",
    "    if len(cols) > 7:\n",
    "        hero = cols[1].text.strip()\n",
    "        total_picks = cols[2].text.strip()\n",
    "        wins = cols[3].text.strip()\n",
    "        losses = cols[4].text.strip()\n",
    "        bans = cols[15].text.strip()\n",
    "        data.append([hero, total_picks, wins, losses, bans])\n",
    "\n",
    "# # Print the scraped data\n",
    "# print('{:<15}{:<15}{:<15}{:<15}{:<15}'.format('Hero', 'Total Picks', 'Wins', 'Losses', 'Bans'))\n",
    "# for row in data:\n",
    "#     hero, total_picks, wins, losses, bans = row\n",
    "#     print('{:<15}{:<15}{:<15}{:<15}{:<15}'.format(hero, total_picks, wins, losses, bans))\n",
    "\n",
    "\n",
    "# Write the data to a CSV file\n",
    "with open('dpc_stats.csv', 'w', newline='') as f:\n",
    "    writer = csv.writer(f)\n",
    "    writer.writerow(['Hero', 'Total Picks', 'Wins', 'Losses', 'Bans'])\n",
    "    writer.writerows(data)"
   ]
  }
 ],
 "metadata": {
  "kernelspec": {
   "display_name": "Python 3",
   "language": "python",
   "name": "python3"
  },
  "language_info": {
   "codemirror_mode": {
    "name": "ipython",
    "version": 3
   },
   "file_extension": ".py",
   "mimetype": "text/x-python",
   "name": "python",
   "nbconvert_exporter": "python",
   "pygments_lexer": "ipython3",
   "version": "3.11.2"
  },
  "orig_nbformat": 4,
  "vscode": {
   "interpreter": {
    "hash": "a30b8e1a8fc1eb97c0154b23253ffe5aeae0ceaa74094624b0d7b732d1b6b5f3"
   }
  }
 },
 "nbformat": 4,
 "nbformat_minor": 2
}
