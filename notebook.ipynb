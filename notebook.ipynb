{
 "cells": [
  {
   "cell_type": "code",
   "execution_count": 1,
   "metadata": {},
   "outputs": [],
   "source": [
    "import requests\n",
    "from bs4 import BeautifulSoup\n",
    "import csv\n",
    "import pandas as pd"
   ]
  },
  {
   "attachments": {},
   "cell_type": "markdown",
   "metadata": {},
   "source": [
    "Requesting China DPC Liquipedia Page."
   ]
  },
  {
   "cell_type": "code",
   "execution_count": 54,
   "metadata": {},
   "outputs": [],
   "source": [
    "# Request the page\n",
    "url = \"https://liquipedia.net/dota2/Dota_Pro_Circuit/2023/1/China/Statistics/Division_I\"\n",
    "response = requests.get(url)\n",
    "\n",
    "# Parse the HTML content using BeautifulSoup\n",
    "soup = BeautifulSoup(response.content, 'html.parser')"
   ]
  },
  {
   "attachments": {},
   "cell_type": "markdown",
   "metadata": {},
   "source": [
    "Requesting NA DPC Liquipedia Page."
   ]
  },
  {
   "cell_type": "code",
   "execution_count": 55,
   "metadata": {},
   "outputs": [],
   "source": [
    "# Request the page\n",
    "url = \"https://liquipedia.net/dota2/Dota_Pro_Circuit/2023/1/North_America/Statistics/Division_I\"\n",
    "response = requests.get(url)\n",
    "\n",
    "# Parse the HTML content using BeautifulSoup\n",
    "soup = BeautifulSoup(response.content, 'html.parser')"
   ]
  },
  {
   "attachments": {},
   "cell_type": "markdown",
   "metadata": {},
   "source": [
    "Requesting WEU DPC Liquipedia Page."
   ]
  },
  {
   "cell_type": "code",
   "execution_count": 56,
   "metadata": {},
   "outputs": [],
   "source": [
    "# Request the page\n",
    "url = \"https://liquipedia.net/dota2/Dota_Pro_Circuit/2023/1/Western_Europe/Statistics/Division_I\"\n",
    "response = requests.get(url)\n",
    "\n",
    "# Parse the HTML content using BeautifulSoup\n",
    "soup = BeautifulSoup(response.content, 'html.parser')"
   ]
  },
  {
   "attachments": {},
   "cell_type": "markdown",
   "metadata": {},
   "source": [
    "Requesting SA DPC Liquipedia Page."
   ]
  },
  {
   "cell_type": "code",
   "execution_count": 57,
   "metadata": {},
   "outputs": [],
   "source": [
    "# Request the page\n",
    "url = \"https://liquipedia.net/dota2/Dota_Pro_Circuit/2023/1/South_America/Statistics/Division_I\"\n",
    "response = requests.get(url)\n",
    "\n",
    "# Parse the HTML content using BeautifulSoup\n",
    "soup = BeautifulSoup(response.content, 'html.parser')"
   ]
  },
  {
   "attachments": {},
   "cell_type": "markdown",
   "metadata": {},
   "source": [
    "Requesting SEA DPC Liquipedia Page."
   ]
  },
  {
   "cell_type": "code",
   "execution_count": 58,
   "metadata": {},
   "outputs": [],
   "source": [
    "# Request the page\n",
    "url = \"https://liquipedia.net/dota2/Dota_Pro_Circuit/2023/1/Southeast_Asia/Statistics/Division_I\"\n",
    "response = requests.get(url)\n",
    "\n",
    "# Parse the HTML content using BeautifulSoup\n",
    "soup = BeautifulSoup(response.content, 'html.parser')"
   ]
  },
  {
   "attachments": {},
   "cell_type": "markdown",
   "metadata": {},
   "source": [
    "Requesting EEU DPC Liquipedia Page."
   ]
  },
  {
   "cell_type": "code",
   "execution_count": 59,
   "metadata": {},
   "outputs": [],
   "source": [
    "# Request the page\n",
    "url = \"https://liquipedia.net/dota2/Dota_Pro_Circuit/2023/1/Eastern_Europe/Statistics/Division_I\"\n",
    "response = requests.get(url)\n",
    "\n",
    "# Parse the HTML content using BeautifulSoup\n",
    "soup = BeautifulSoup(response.content, 'html.parser')"
   ]
  },
  {
   "attachments": {},
   "cell_type": "markdown",
   "metadata": {},
   "source": [
    "Requesting Lima Major Liquipedia Page."
   ]
  },
  {
   "cell_type": "code",
   "execution_count": 60,
   "metadata": {},
   "outputs": [],
   "source": [
    "# Request the page\n",
    "url = \"https://liquipedia.net/dota2/Lima_Major/2023/Statistics\"\n",
    "response = requests.get(url)\n",
    "\n",
    "# Parse the HTML content using BeautifulSoup\n",
    "soup = BeautifulSoup(response.content, 'html.parser')"
   ]
  },
  {
   "attachments": {},
   "cell_type": "markdown",
   "metadata": {},
   "source": [
    "Printing original output to understand data formatting."
   ]
  },
  {
   "cell_type": "code",
   "execution_count": 61,
   "metadata": {},
   "outputs": [],
   "source": [
    "# # Find the table containing the data we want to scrape\n",
    "# table = soup.find('table', {'class': 'wikitable'})\n",
    "\n",
    "# # Extract the data from the table\n",
    "# rows = table.find_all('tr')\n",
    "\n",
    "# # Print out each row with its columns indexed\n",
    "# for row in rows:\n",
    "#     cols = row.find_all('td')\n",
    "#     print([cols[i].text.strip() for i in range(len(cols))])"
   ]
  },
  {
   "attachments": {},
   "cell_type": "markdown",
   "metadata": {},
   "source": [
    "Printing cleaned output where columns of size less than 6 are excluded to check for accuracy."
   ]
  },
  {
   "cell_type": "code",
   "execution_count": 62,
   "metadata": {},
   "outputs": [],
   "source": [
    "# # Find the table containing the data we want to scrape\n",
    "# table = soup.find('table', {'class': 'wikitable'})\n",
    "\n",
    "# # Extract the data from the table\n",
    "# rows = table.find_all('tr')\n",
    "\n",
    "# # Print out each row with its columns indexed, but only if the row has at least 6 columns\n",
    "# for row in rows:\n",
    "#     cols = row.find_all('td')\n",
    "#     if len(cols) > 6:\n",
    "#         print([cols[i].text.strip() for i in range(len(cols))])"
   ]
  },
  {
   "attachments": {},
   "cell_type": "markdown",
   "metadata": {},
   "source": [
    "Output was correct, so now we store outputs to CSV files."
   ]
  },
  {
   "cell_type": "code",
   "execution_count": 63,
   "metadata": {},
   "outputs": [],
   "source": [
    "# Find the table containing the data we want to scrape\n",
    "table = soup.find('table', {'class': 'wikitable'})\n",
    "\n",
    "# Extract the data from the table\n",
    "rows = table.find_all('tr')\n",
    "\n",
    "# Initialize a list to store the scraped data\n",
    "data = []\n",
    "\n",
    "# Loop through each row of the table and extract the desired data\n",
    "for row in rows:\n",
    "    cols = row.find_all('td')\n",
    "    if len(cols) > 7:\n",
    "        hero = cols[1].text.strip()\n",
    "        total_picks = cols[2].text.strip()\n",
    "        wins = cols[3].text.strip()\n",
    "        losses = cols[4].text.strip()\n",
    "        bans = cols[15].text.strip()\n",
    "        data.append([hero, total_picks, wins, losses, bans])\n",
    "\n",
    "# # Print the scraped data\n",
    "# print('{:<15}{:<15}{:<15}{:<15}{:<15}'.format('Hero', 'Total Picks', 'Wins', 'Losses', 'Bans'))\n",
    "# for row in data:\n",
    "#     hero, total_picks, wins, losses, bans = row\n",
    "#     print('{:<15}{:<15}{:<15}{:<15}{:<15}'.format(hero, total_picks, wins, losses, bans))\n",
    "\n",
    "\n",
    "# Write the data to a CSV file\n",
    "with open('dpc_stats.csv', 'w', newline='') as f:\n",
    "    writer = csv.writer(f)\n",
    "    writer.writerow(['Hero', 'Total Picks', 'Wins', 'Losses', 'Bans'])\n",
    "    writer.writerows(data)"
   ]
  },
  {
   "attachments": {},
   "cell_type": "markdown",
   "metadata": {},
   "source": [
    "Combining the 7 CSV files on Hero column using Pandas."
   ]
  },
  {
   "cell_type": "code",
   "execution_count": 3,
   "metadata": {},
   "outputs": [],
   "source": [
    "# Define the file names for the 7 CSV files\n",
    "file_names = ['dpc_stats_CN.csv', 'dpc_stats_EEU.csv', 'dpc_stats_LM.csv', 'dpc_stats_NA.csv', 'dpc_stats_SA.csv', 'dpc_stats_SEA.csv', 'dpc_stats_WEU.csv']\n",
    "\n",
    "# Read each CSV file into a pandas data frame and concatenate them into a single data frame\n",
    "dfs = []\n",
    "for file_name in file_names:\n",
    "    df = pd.read_csv(file_name)\n",
    "    dfs.append(df)\n",
    "combined_df = pd.concat(dfs)\n",
    "\n",
    "# Group the data by hero and sum the columns for total_picks, wins, losses, and bans\n",
    "grouped_df = combined_df.groupby('Hero').sum()\n",
    "\n",
    "# Write the result to a new CSV file\n",
    "grouped_df.to_csv('combined.csv')"
   ]
  }
 ],
 "metadata": {
  "kernelspec": {
   "display_name": "Python 3",
   "language": "python",
   "name": "python3"
  },
  "language_info": {
   "codemirror_mode": {
    "name": "ipython",
    "version": 3
   },
   "file_extension": ".py",
   "mimetype": "text/x-python",
   "name": "python",
   "nbconvert_exporter": "python",
   "pygments_lexer": "ipython3",
   "version": "3.11.2"
  },
  "orig_nbformat": 4,
  "vscode": {
   "interpreter": {
    "hash": "a30b8e1a8fc1eb97c0154b23253ffe5aeae0ceaa74094624b0d7b732d1b6b5f3"
   }
  }
 },
 "nbformat": 4,
 "nbformat_minor": 2
}
